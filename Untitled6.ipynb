{
  "nbformat": 4,
  "nbformat_minor": 0,
  "metadata": {
    "colab": {
      "name": "Untitled6.ipynb",
      "provenance": [],
      "collapsed_sections": [],
      "authorship_tag": "ABX9TyOgXuGTTxNN2VLz6zRSZ4is",
      "include_colab_link": true
    },
    "kernelspec": {
      "name": "python3",
      "display_name": "Python 3"
    },
    "language_info": {
      "name": "python"
    }
  },
  "cells": [
    {
      "cell_type": "markdown",
      "metadata": {
        "id": "view-in-github",
        "colab_type": "text"
      },
      "source": [
        "<a href=\"https://colab.research.google.com/github/maitrang99/maitrang99/blob/main/Untitled6.ipynb\" target=\"_parent\"><img src=\"https://colab.research.google.com/assets/colab-badge.svg\" alt=\"Open In Colab\"/></a>"
      ]
    },
    {
      "cell_type": "code",
      "execution_count": 2,
      "metadata": {
        "colab": {
          "base_uri": "https://localhost:8080/"
        },
        "id": "B2FnJiHVB8mj",
        "outputId": "7c53eb96-500d-4631-f7c4-78b5e5ca0c8c"
      },
      "outputs": [
        {
          "output_type": "stream",
          "name": "stdout",
          "text": [
            "영문 이름 입력하세요: PHAM THI MAI TRANG \n",
            "the number 'a' is  3\n"
          ]
        }
      ],
      "source": [
        "def count_a(s):\n",
        "  b=0\n",
        "  for c in s:\n",
        "    if c=='a' or c=='A':\n",
        "      b+=1\n",
        "  return b \n",
        "\n",
        "s=input(\"영문 이름 입력하세요: \")\n",
        "print(\"the number 'a' is \", count_a(s))\n"
      ]
    },
    {
      "cell_type": "code",
      "source": [
        ""
      ],
      "metadata": {
        "id": "d6BLJfUsCuxn"
      },
      "execution_count": null,
      "outputs": []
    }
  ]
}